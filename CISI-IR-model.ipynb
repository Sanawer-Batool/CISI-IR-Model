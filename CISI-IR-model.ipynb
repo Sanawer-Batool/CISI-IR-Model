{
 "cells": [
  {
   "cell_type": "markdown",
   "id": "322a6f98-7b51-4143-8569-c5ce4315ba59",
   "metadata": {},
   "source": [
    "# CISI Dataset Information Retrieval Models"
   ]
  },
  {
   "cell_type": "code",
   "execution_count": 1,
   "id": "035bf904-bf98-4aee-a4fb-14d3f65d44fb",
   "metadata": {},
   "outputs": [],
   "source": [
    "\n",
    "import numpy as np\n",
    "import pandas as pd\n",
    "import os\n",
    "from nltk.tokenize import word_tokenize\n",
    "import nltk\n",
    "from sklearn.feature_extraction.text import TfidfVectorizer\n",
    "from sklearn.metrics.pairwise import cosine_similarity\n",
    "from rank_bm25 import BM25Okapi\n"
   ]
  },
  {
   "cell_type": "markdown",
   "id": "bf7d391e-972b-4d3e-a0c8-c0d39f182497",
   "metadata": {},
   "source": [
    "## Import and Read files"
   ]
  },
  {
   "cell_type": "code",
   "execution_count": 2,
   "id": "88f2da21-bc9d-47dd-a10b-4bcede50f6c6",
   "metadata": {},
   "outputs": [
    {
     "name": "stdout",
     "output_type": "stream",
     "text": [
      "Found file: CISI.ALL\n",
      "Found file: CISI.QRY\n",
      "Found file: CISI.REL\n"
     ]
    }
   ],
   "source": [
    "DOC_FILE = \"CISI.ALL\"\n",
    "QUERY_FILE = \"CISI.QRY\"\n",
    "REL_FILE = \"CISI.REL\"\n",
    "\n",
    "for file_path in [DOC_FILE, QUERY_FILE, REL_FILE]:\n",
    "    if os.path.exists(file_path):\n",
    "        print(f\"Found file: {file_path}\")\n",
    "    else:\n",
    "        print(f\"File not found: {file_path}\")"
   ]
  },
  {
   "cell_type": "code",
   "execution_count": 3,
   "id": "db60a05b-5365-4945-b5bb-efa8a886aea9",
   "metadata": {},
   "outputs": [
    {
     "name": "stdout",
     "output_type": "stream",
     "text": [
      "Number of documents: 1460\n",
      "Sample document (ID 1): 18 Editions of the Dewey Decimal Classifications Comaromi, J.P. The present study is a history of th...\n"
     ]
    }
   ],
   "source": [
    "def read_documents(file_path=\"CISI.ALL\"):\n",
    "    with open(file_path, 'r', encoding='utf-8') as f:\n",
    "        merged = \"\"\n",
    "        for line in f.readlines():\n",
    "            if line.startswith(\".\"):\n",
    "                merged += \"\\n\" + line.strip()\n",
    "            else:\n",
    "                merged += \" \" + line.strip()\n",
    "    \n",
    "    documents = {}\n",
    "    content = \"\"\n",
    "    doc_id = \"\"\n",
    "    \n",
    "    for line in merged.split(\"\\n\"):\n",
    "        if line.startswith(\".I\"):\n",
    "            doc_id = line.split(\" \")[1].strip()\n",
    "        elif line.startswith(\".X\"):\n",
    "            if doc_id and content:\n",
    "                documents[doc_id] = content.strip()\n",
    "            content = \"\"\n",
    "            doc_id = \"\"\n",
    "        else:\n",
    "            content += line.strip()[3:] + \" \" if line.strip().startswith((\".T\", \".A\", \".W\")) else line.strip() + \" \"\n",
    "    \n",
    "    return documents\n",
    "\n",
    "documents = read_documents()\n",
    "print(f\"Number of documents: {len(documents)}\")\n",
    "print(\"Sample document (ID 1):\", documents.get(\"1\")[:100] + \"...\") "
   ]
  },
  {
   "cell_type": "code",
   "execution_count": 4,
   "id": "9359301c-0166-4c7b-850a-d3229c03031a",
   "metadata": {},
   "outputs": [
    {
     "name": "stdout",
     "output_type": "stream",
     "text": [
      "Number of queries: 112\n",
      "Sample query (ID 1): What problems and concerns are there in making up descriptive titles? What difficulties are involved...\n"
     ]
    }
   ],
   "source": [
    "def read_queries(file_path=\"CISI.QRY\"):\n",
    "    with open(file_path, 'r', encoding='utf-8') as f:\n",
    "        merged = \"\"\n",
    "        for line in f.readlines():\n",
    "            if line.startswith(\".\"):\n",
    "                merged += \"\\n\" + line.strip()\n",
    "            else:\n",
    "                merged += \" \" + line.strip()\n",
    "    \n",
    "    queries = {}\n",
    "    content = \"\"\n",
    "    qry_id = \"\"\n",
    "    \n",
    "    for line in merged.split(\"\\n\"):\n",
    "        if line.startswith(\".I\"):\n",
    "            if content and qry_id:\n",
    "                queries[qry_id] = content.strip()\n",
    "            content = \"\"\n",
    "            qry_id = line.split(\" \")[1].strip()\n",
    "        elif line.startswith((\".W\", \".T\")):\n",
    "            content += line.strip()[3:] + \" \"\n",
    "    \n",
    "    if content and qry_id: \n",
    "        queries[qry_id] = content.strip()\n",
    "    \n",
    "    return queries\n",
    "\n",
    "queries = read_queries()\n",
    "print(f\"Number of queries: {len(queries)}\")\n",
    "print(\"Sample query (ID 1):\", queries.get(\"1\")[:100] + \"...\")  "
   ]
  },
  {
   "cell_type": "code",
   "execution_count": 5,
   "id": "10445545-d6b8-4140-9377-6702f2fabfdd",
   "metadata": {},
   "outputs": [
    {
     "name": "stdout",
     "output_type": "stream",
     "text": [
      "Number of queries with relevance judgments: 76\n",
      "Sample mapping (Query ID 1): ['28', '35', '38', '42', '43', '52', '65', '76', '86', '150', '189', '192', '193', '195', '215', '269', '291', '320', '429', '465', '466', '482', '483', '510', '524', '541', '576', '582', '589', '603', '650', '680', '711', '722', '726', '783', '813', '820', '868', '869', '894', '1162', '1164', '1195', '1196', '1281']\n"
     ]
    }
   ],
   "source": [
    "def read_mappings(file_path=\"CISI.REL\"):\n",
    "    mappings = {}\n",
    "    with open(file_path, 'r', encoding='utf-8') as f:\n",
    "        for line in f.readlines():\n",
    "            voc = line.strip().split()\n",
    "            if len(voc) >= 2:\n",
    "                key = voc[0].strip()\n",
    "                doc_id = voc[1].strip()\n",
    "                if key in mappings:\n",
    "                    mappings[key].append(doc_id)\n",
    "                else:\n",
    "                    mappings[key] = [doc_id]\n",
    "    return mappings\n",
    "\n",
    "mappings = read_mappings()\n",
    "print(f\"Number of queries with relevance judgments: {len(mappings)}\")\n",
    "print(\"Sample mapping (Query ID 1):\", mappings.get(\"1\"))"
   ]
  },
  {
   "cell_type": "markdown",
   "id": "bab6fe3e-e9d9-40ef-9459-a7826f15bfc4",
   "metadata": {},
   "source": [
    "## Preprocessing"
   ]
  },
  {
   "cell_type": "code",
   "execution_count": 6,
   "id": "11552a8b-dfc7-4e3a-8487-0322963182ea",
   "metadata": {},
   "outputs": [],
   "source": [
    "import nltk\n",
    "from nltk.tokenize import word_tokenize\n",
    "from nltk.corpus import stopwords\n",
    "from nltk.stem.porter import PorterStemmer\n",
    "\n"
   ]
  },
  {
   "cell_type": "code",
   "execution_count": 7,
   "id": "d63c57a6-2770-413b-b8f8-8152b9fcbd40",
   "metadata": {},
   "outputs": [],
   "source": [
    "def preprocess_text(text):\n",
    "    text = text.lower()\n",
    "    # Tokenization\n",
    "    tokens = word_tokenize(text)\n",
    "    # Stop word removal\n",
    "    stop_words = set(stopwords.words('english'))\n",
    "    tokens = [token for token in tokens if token not in stop_words and token.isalnum()]\n",
    "    # Stemming\n",
    "    stemmer = PorterStemmer()\n",
    "    tokens = [stemmer.stem(token) for token in tokens]\n",
    "    return tokens"
   ]
  },
  {
   "cell_type": "code",
   "execution_count": 8,
   "id": "0d40bedc-dc31-4694-a5b3-7a9f76f909de",
   "metadata": {},
   "outputs": [
    {
     "name": "stdout",
     "output_type": "stream",
     "text": [
      "Number of preprocessed documents: 1460\n",
      "Sample preprocessed document (ID 1): ['18', 'edit', 'dewey', 'decim', 'classif', 'comaromi', 'present', 'studi', 'histori', 'dewey']\n"
     ]
    }
   ],
   "source": [
    "preprocessed_docs = {doc_id: preprocess_text(text) for doc_id, text in documents.items()}\n",
    "print(f\"Number of preprocessed documents: {len(preprocessed_docs)}\")\n",
    "print(\"Sample preprocessed document (ID 1):\", preprocessed_docs.get(\"1\")[:10]) "
   ]
  },
  {
   "cell_type": "code",
   "execution_count": 9,
   "id": "edaa5a02-9f8c-4dea-bf3d-8dc15b2766ad",
   "metadata": {},
   "outputs": [
    {
     "name": "stdout",
     "output_type": "stream",
     "text": [
      "Number of preprocessed queries: 112\n",
      "Sample preprocessed query (ID 1): ['problem', 'concern', 'make', 'descript', 'titl', 'difficulti', 'involv', 'automat', 'retriev', 'articl']\n"
     ]
    }
   ],
   "source": [
    "preprocessed_queries = {qry_id: preprocess_text(text) for qry_id, text in queries.items()}\n",
    "\n",
    "print(f\"Number of preprocessed queries: {len(preprocessed_queries)}\")\n",
    "print(\"Sample preprocessed query (ID 1):\", preprocessed_queries.get(\"1\")[:10]) "
   ]
  },
  {
   "cell_type": "markdown",
   "id": "fb5d4000-e58a-4763-ad14-efb86a388e9b",
   "metadata": {},
   "source": [
    "## Model A - TF-IDF + Cosine Similarity"
   ]
  },
  {
   "cell_type": "code",
   "execution_count": 10,
   "id": "7da1d21c-2ef0-4076-b8a2-9d2a9d229d3b",
   "metadata": {},
   "outputs": [
    {
     "name": "stdout",
     "output_type": "stream",
     "text": [
      "Model A: Top 5 documents for Query 1: ['722', '429', '589', '1281', '603']\n"
     ]
    }
   ],
   "source": [
    "import numpy as np\n",
    "\n",
    "doc_texts = [' '.join(tokens) for tokens in preprocessed_docs.values()]\n",
    "vectorizer = TfidfVectorizer(analyzer='word', lowercase=False)\n",
    "tfidf_matrix = vectorizer.fit_transform(doc_texts)\n",
    "\n",
    "query_texts = [' '.join(tokens) for tokens in preprocessed_queries.values()]\n",
    "query_tfidf = vectorizer.transform(query_texts)\n",
    "\n",
    "similarities = cosine_similarity(query_tfidf, tfidf_matrix)\n",
    "\n",
    "# Rank documents for each query\n",
    "doc_ids = list(preprocessed_docs.keys())\n",
    "model_a_results = {}\n",
    "for i, qry_id in enumerate(preprocessed_queries.keys()):\n",
    "    scores = similarities[i]\n",
    "    ranked_indices = np.argsort(scores)[::-1][:10]  # Top 10 documents\n",
    "    ranked_docs = [doc_ids[idx] for idx in ranked_indices]\n",
    "    model_a_results[qry_id] = ranked_docs\n",
    "\n",
    "print(\"Model A: Top 5 documents for Query 1:\", model_a_results.get(\"1\")[:5])"
   ]
  },
  {
   "cell_type": "markdown",
   "id": "3eb24c67-c9fa-4a3e-bd8f-441833ab91f6",
   "metadata": {},
   "source": [
    "## Model B - SMART Notation TF-IDF"
   ]
  },
  {
   "cell_type": "code",
   "execution_count": 11,
   "id": "82d18cc7-62e5-4d81-8f81-5b9045db62ee",
   "metadata": {},
   "outputs": [
    {
     "name": "stdout",
     "output_type": "stream",
     "text": [
      "Model B: Top 5 documents for Query 1: ['429', '1281', '722', '1299', '711']\n"
     ]
    }
   ],
   "source": [
    "smart_vectorizer = TfidfVectorizer(sublinear_tf=True, norm='l2', lowercase=False)\n",
    "smart_tfidf_matrix = smart_vectorizer.fit_transform(doc_texts)\n",
    "\n",
    "smart_query_tfidf = smart_vectorizer.transform(query_texts)\n",
    "\n",
    "smart_similarities = cosine_similarity(smart_query_tfidf, smart_tfidf_matrix)\n",
    "\n",
    "# Rank documents\n",
    "model_b_results = {}\n",
    "for i, qry_id in enumerate(preprocessed_queries.keys()):\n",
    "    scores = smart_similarities[i]\n",
    "    ranked_indices = np.argsort(scores)[::-1][:10]\n",
    "    ranked_docs = [doc_ids[idx] for idx in ranked_indices]\n",
    "    model_b_results[qry_id] = ranked_docs\n",
    "\n",
    "print(\"Model B: Top 5 documents for Query 1:\", model_b_results.get(\"1\")[:5])"
   ]
  },
  {
   "cell_type": "markdown",
   "id": "8537e489-25a1-43e5-bb21-74ef13d08103",
   "metadata": {},
   "source": [
    "## Model C - BM25"
   ]
  },
  {
   "cell_type": "code",
   "execution_count": 12,
   "id": "8f1add37-a3e4-443a-b3fc-d26e92e3201b",
   "metadata": {},
   "outputs": [
    {
     "name": "stdout",
     "output_type": "stream",
     "text": [
      "Model C: Top 5 documents for Query 1: ['429', '722', '1299', '759', '65']\n"
     ]
    }
   ],
   "source": [
    "from rank_bm25 import BM25Okapi\n",
    "\n",
    "bm25 = BM25Okapi(list(preprocessed_docs.values()), k1=1.5, b=0.75)\n",
    "\n",
    "model_c_results = {}\n",
    "for qry_id, query_tokens in preprocessed_queries.items():\n",
    "    scores = bm25.get_scores(query_tokens)\n",
    "    ranked_indices = np.argsort(scores)[::-1][:10]\n",
    "    ranked_docs = [doc_ids[idx] for idx in ranked_indices]\n",
    "    model_c_results[qry_id] = ranked_docs\n",
    "\n",
    "print(\"Model C: Top 5 documents for Query 1:\", model_c_results.get(\"1\")[:5])"
   ]
  },
  {
   "cell_type": "markdown",
   "id": "7f1bf0f4-4c91-442d-a544-91d3ed14e25e",
   "metadata": {},
   "source": [
    "## Evaluate Models"
   ]
  },
  {
   "cell_type": "code",
   "execution_count": 13,
   "id": "6f17e48b-9ceb-4748-b646-dd65dd761cf3",
   "metadata": {},
   "outputs": [
    {
     "name": "stdout",
     "output_type": "stream",
     "text": [
      "Evaluation Results:\n",
      "Model A (TF-IDF): Precision = 0.3526, Recall = 0.1314\n",
      "Model B (SMART): Precision = 0.3658, Recall = 0.1433\n",
      "Model C (BM25): Precision = 0.3684, Recall = 0.1531\n"
     ]
    }
   ],
   "source": [
    "def evaluate_model(results, mappings):\n",
    "    precisions = []\n",
    "    recalls = []\n",
    "    for qry_id, ranked_docs in results.items():\n",
    "        if qry_id in mappings:\n",
    "            relevant_docs = set(mappings[qry_id])\n",
    "            retrieved_docs = set(ranked_docs)\n",
    "            true_positives = len(retrieved_docs & relevant_docs)\n",
    "            precision = true_positives / len(retrieved_docs) if retrieved_docs else 0\n",
    "            recall = true_positives / len(relevant_docs) if relevant_docs else 0\n",
    "            precisions.append(precision)\n",
    "            recalls.append(recall)\n",
    "    return np.mean(precisions), np.mean(recalls)\n",
    "\n",
    "models = {\n",
    "    \"Model A (TF-IDF)\": model_a_results,\n",
    "    \"Model B (SMART)\": model_b_results,\n",
    "    \"Model C (BM25)\": model_c_results\n",
    "}\n",
    "results = {}\n",
    "for model_name, model_results in models.items():\n",
    "    avg_precision, avg_recall = evaluate_model(model_results, mappings)\n",
    "    results[model_name] = {\"Precision\": avg_precision, \"Recall\": avg_recall}\n",
    "\n",
    "print(\"Evaluation Results:\")\n",
    "for model_name, metrics in results.items():\n",
    "    print(f\"{model_name}: Precision = {metrics['Precision']:.4f}, Recall = {metrics['Recall']:.4f}\")"
   ]
  },
  {
   "cell_type": "markdown",
   "id": "c13c19ae-1220-46ea-9ad5-adf021f4a4cd",
   "metadata": {},
   "source": [
    "## Visualize Results (Using Matplotlib)"
   ]
  },
  {
   "cell_type": "code",
   "execution_count": 14,
   "id": "408cd440-11e4-4552-bd27-3d509028d979",
   "metadata": {},
   "outputs": [
    {
     "data": {
      "image/png": "[encoded data removed]",
      "text/plain": [
       "<Figure size 800x600 with 1 Axes>"
      ]
     },
     "metadata": {},
     "output_type": "display_data"
    }
   ],
   "source": [
    "import matplotlib.pyplot as plt\n",
    "import numpy as np\n",
    "\n",
    "labels = ['Model A (TF-IDF)', 'Model B (SMART)', 'Model C (BM25)']\n",
    "precisions = [0.3526, 0.3658, 0.3684]\n",
    "recalls = [0.1314, 0.1433, 0.1531]\n",
    "\n",
    "x = np.arange(len(labels))  \n",
    "width = 0.35  \n",
    "\n",
    "fig, ax = plt.subplots(figsize=(8, 6))\n",
    "rects1 = ax.bar(x - width/2, precisions, width, label='Precision', color='teal')\n",
    "rects2 = ax.bar(x + width/2, recalls, width, label='Recall', color='red')\n",
    "\n",
    "ax.set_ylabel('Score')\n",
    "ax.set_xlabel('Model')\n",
    "ax.set_title('Model Performance Comparison')\n",
    "ax.set_xticks(x)\n",
    "ax.set_xticklabels(labels)\n",
    "ax.legend()\n",
    "\n",
    "ax.set_ylim(0, max(max(precisions), max(recalls)) * 1.1)\n",
    "\n",
    "plt.tight_layout()\n",
    "plt.show()"
   ]
  },
  {
   "cell_type": "code",
   "execution_count": null,
   "id": "69fddc9f-4211-4ca1-a9b4-40ba2d4091ad",
   "metadata": {},
   "outputs": [],
   "source": []
  }
 ],
 "metadata": {
  "kernelspec": {
   "display_name": "Python [conda env:base] *",
   "language": "python",
   "name": "conda-base-py"
  },
  "language_info": {
   "codemirror_mode": {
    "name": "ipython",
    "version": 3
   },
   "file_extension": ".py",
   "mimetype": "text/x-python",
   "name": "python",
   "nbconvert_exporter": "python",
   "pygments_lexer": "ipython3",
   "version": "3.12.7"
  }
 },
 "nbformat": 4,
 "nbformat_minor": 5
}
